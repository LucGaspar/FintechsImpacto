{
 "cells": [
  {
   "cell_type": "code",
   "execution_count": null,
   "metadata": {},
   "outputs": [],
   "source": [
    "import pandas as pd\n",
    "import glob"
   ]
  },
  {
   "cell_type": "markdown",
   "metadata": {},
   "source": [
    "# Dimensão acesso"
   ]
  },
  {
   "cell_type": "code",
   "execution_count": null,
   "metadata": {},
   "outputs": [],
   "source": [
    "files = glob.glob('../Dados/Raw/Dimensão Uso/*.csv')\n",
    "bacen = pd.DataFrame(columns=['Date'])\n",
    "\n",
    "for file in files:\n",
    "    df = pd.read_csv(file, sep=\";\", encoding='latin-1', decimal = '.', thousands = ',')\n",
    "    bacen = bacen.merge(df, how='outer', left_on='Date', right_on='Date')"
   ]
  },
  {
   "cell_type": "code",
   "execution_count": null,
   "metadata": {},
   "outputs": [],
   "source": [
    "bacen = bacen.drop([16])\n",
    "regioes = ['Central-West','Northeast','North ','Southeast','South ']\n",
    "troca_nomes = pd.read_excel('../Dados/Raw/Dimensão Uso/Depara.xlsx')"
   ]
  },
  {
   "cell_type": "code",
   "execution_count": null,
   "metadata": {},
   "outputs": [],
   "source": [
    "dataframe = pd.DataFrame()\n",
    "\n",
    "for regiao in regioes:\n",
    "    q = bacen[bacen.columns[bacen.columns.str.contains(regiao)] | bacen.columns[bacen.columns.str.contains('Date')]]\n",
    "    columns = q.columns\n",
    "\n",
    "    for c in columns:\n",
    "        for i,x in troca_nomes.iterrows():\n",
    "            if (x['parte importante'] in c):\n",
    "                q = q.rename(columns={c:x['novo nome']})\n",
    "                break\n",
    "                \n",
    "    q['Região'] = regiao\n",
    "    dataframe = dataframe.append(q)"
   ]
  },
  {
   "cell_type": "code",
   "execution_count": null,
   "metadata": {},
   "outputs": [],
   "source": [
    "dataframe = dataframe.reset_index(drop = True)\n",
    "dataframe = dataframe.apply(lambda x: x.str.replace(',',''))\n",
    "\n",
    "for c in dataframe.columns:\n",
    "    dataframe.loc[dataframe[c] == '-', c] = None\n",
    "    \n",
    "dataframe['Adults with a banking relationship (million)'] = dataframe['Adults with a banking relationship (million)'].astype(float)"
   ]
  },
  {
   "cell_type": "markdown",
   "metadata": {},
   "source": [
    "## Fintechs"
   ]
  },
  {
   "cell_type": "code",
   "execution_count": null,
   "metadata": {},
   "outputs": [],
   "source": [
    "fint = pd.read_csv('../Dados/Raw/Fintechs/fintechs.csv', sep=\",\", encoding='latin-1', decimal = ',', thousands = '.')\n",
    "\n",
    "dataframe.Date = dataframe.Date.astype(int) # modificar tipo de dado da coluna Date\n",
    "\n",
    "fint = fint.rename(columns = {'Ano' : 'Date'}) # renomear coluna\n",
    "\n",
    "dataframe = dataframe.merge(fint, left_on = 'Date', right_on = 'Date', how = 'outer')"
   ]
  },
  {
   "cell_type": "markdown",
   "metadata": {},
   "source": [
    "## Area Regiao"
   ]
  },
  {
   "cell_type": "code",
   "execution_count": null,
   "metadata": {},
   "outputs": [],
   "source": [
    "area = pd.read_excel('../Dados/Raw/Area Regiao/area_regiao.xlsx')\n",
    "\n",
    "dataframe.loc[dataframe['Região'] == 'South ', 'Região'] = 'South'\n",
    "dataframe.loc[dataframe['Região'] == 'North ', 'Região'] = 'North'\n",
    "\n",
    "dataframe = dataframe.merge(area, how = 'outer')"
   ]
  },
  {
   "cell_type": "markdown",
   "metadata": {},
   "source": [
    "## Populacao Regiao"
   ]
  },
  {
   "cell_type": "code",
   "execution_count": null,
   "metadata": {},
   "outputs": [],
   "source": [
    "pop = pd.read_excel('../Dados/Raw/Populacao/populacao_ibge_regiao (1).xlsx')\n",
    "\n",
    "pop = pd.melt(pop, id_vars = ['Região']).rename(columns = {'Região' : 'Date', 'variable' : 'Região', 'value' : 'População'})\n",
    "\n",
    "dataframe = dataframe.merge(pop, how = 'outer')"
   ]
  },
  {
   "cell_type": "markdown",
   "metadata": {},
   "source": [
    "## Medidas Acesso"
   ]
  },
  {
   "cell_type": "code",
   "execution_count": null,
   "metadata": {},
   "outputs": [],
   "source": [
    "columns = ['Number of headquarters of authorized financial institutions',\n",
    "       'Number of branches of financial institutions',\n",
    "       'Number of banking service outposts of financial institutions',\n",
    "       'Number of electronic service outposts of financial institutions',\n",
    "       'Number of correspondents of financial institutions ',\n",
    "       'Number of ATMs of financial institutions',\n",
    "       'Number of POSs of financial institutions',\n",
    "       'Number of authorized credit unions ',\n",
    "       'Number of credit unions banking service outposts',\n",
    "       'Number of credit unions electronic service outposts',\n",
    "       'Number of credit unions correspondents',\n",
    "       'Number of branches of finance companies',\n",
    "       'Number of banking services outpost of finance companies',\n",
    "       'Number of electronic service outposts of finance companies',\n",
    "       'Number of microentrepreneur, and small business credit companies correspondents',\n",
    "       'Total invesment activity', 'Number Fintechs Brazil']\n",
    "\n",
    "dataframe[columns] = dataframe[columns].astype(float)"
   ]
  },
  {
   "cell_type": "markdown",
   "metadata": {},
   "source": [
    "## Geografico"
   ]
  },
  {
   "cell_type": "code",
   "execution_count": null,
   "metadata": {},
   "outputs": [],
   "source": [
    "dfGeografico = dataframe.copy()\n",
    "dfGeografico[columns] = dfGeografico[columns] * 1000\n",
    "for c in columns:\n",
    "    dfGeografico[c] = dfGeografico[c] / dfGeografico['Área']"
   ]
  },
  {
   "cell_type": "markdown",
   "metadata": {},
   "source": [
    "## Demográfico"
   ]
  },
  {
   "cell_type": "code",
   "execution_count": null,
   "metadata": {},
   "outputs": [],
   "source": [
    "dfDemografico = dataframe.copy()\n",
    "dfDemografico[columns] = dfDemografico[columns] * 10000\n",
    "for c in columns:\n",
    "    dfDemografico[c] = dfDemografico[c] / dfDemografico['População']"
   ]
  },
  {
   "cell_type": "markdown",
   "metadata": {},
   "source": [
    "# Dimensão Uso"
   ]
  },
  {
   "cell_type": "code",
   "execution_count": null,
   "metadata": {},
   "outputs": [],
   "source": [
    "dfUso = dataframe[['Região', 'Date', 'População', 'Adults with a banking relationship (million)']]\n",
    "\n",
    "dfUso['Adults with a banking relationship (million)'] = dfUso['Adults with a banking relationship (million)'] * 1000000\n",
    "\n",
    "dfUso['Bancarização'] = dfUso.apply(lambda row : row['Adults with a banking relationship (million)'] / row['População'], axis = 1)"
   ]
  },
  {
   "cell_type": "markdown",
   "metadata": {},
   "source": [
    "# PIB"
   ]
  },
  {
   "cell_type": "code",
   "execution_count": null,
   "metadata": {
    "scrolled": true
   },
   "outputs": [],
   "source": [
    "names = ['Date', 'Central-West', 'Northeast', 'North', 'Southeast', 'South']\n",
    "\n",
    "path = '../Dados/Raw/PIB/PIB 2010 A 2017.xlsx'\n",
    "\n",
    "pib = pd.read_excel(path, parse_dates = ['Date'], names = names, header = 0)"
   ]
  },
  {
   "cell_type": "code",
   "execution_count": null,
   "metadata": {},
   "outputs": [],
   "source": [
    "pib.Date = pib.Date.dt.year\n",
    "pib = pd.melt(pib, id_vars = ['Date']).rename(columns = {'value' : 'PIB', 'variable' : 'Região'})"
   ]
  },
  {
   "cell_type": "code",
   "execution_count": null,
   "metadata": {},
   "outputs": [],
   "source": [
    "dfUso = dfUso.merge(pib)"
   ]
  },
  {
   "cell_type": "markdown",
   "metadata": {},
   "source": [
    "## Depósito - Crédito"
   ]
  },
  {
   "cell_type": "code",
   "execution_count": null,
   "metadata": {},
   "outputs": [],
   "source": [
    "depCred = pd.read_csv('../Dados/Raw/Depositos/Consolidado.csv', sep=\",\", encoding='latin-1', header = 0) \n",
    "\n",
    "columnsDep = ['VERBETE_420_DEPOSITOS_DE_POUPANCA',\n",
    "           'VERBETE_430_DEPOSITOS_INTERIFNANCEIROS',\n",
    "           'VERBETE_431_DEPOSITOS_INTERFINANCEIROS',\n",
    "           'VERBETE_432_DEPOSITOS_A_PRAZO',\n",
    "           'VERBETE_112_DEPOSITOS_BANCARIOS']\n",
    "\n",
    "columnsCred = ['VERBETE_160_OPERACOES_DE_CREDITO', 'VERBETE_172_OUTROS_CREDITOS']\n",
    "\n",
    "depCred['Depósito'] = 0\n",
    "depCred['Crédito' ] = 0\n",
    "\n",
    "for c in columnsDep:\n",
    "    depCred['Depósito'] = depCred['Depósito'] + depCred[c]\n",
    "\n",
    "for c in columnsCred:\n",
    "    depCred['Crédito'] = depCred['Crédito'] + depCred[c]"
   ]
  },
  {
   "cell_type": "code",
   "execution_count": null,
   "metadata": {},
   "outputs": [],
   "source": [
    "depCred = depCred.rename(columns = {'#DATA_BASE' : 'Date'})\n",
    "depCred = depCred[['Date', 'UF', 'Crédito', 'Depósito']]\n",
    "\n",
    "depCred.Date = depCred.Date.astype(int).astype(str)\n",
    "\n",
    "depCred['Year']  = depCred.Date.apply(lambda date : date[0:4])\n",
    "depCred['Month'] = depCred.Date.apply(lambda date : date[4:6])\n",
    "\n",
    "depCred = depCred.drop(columns = ['Date'])\n",
    "depCred = depCred.groupby(['UF', 'Year']).sum().reset_index()"
   ]
  },
  {
   "cell_type": "code",
   "execution_count": null,
   "metadata": {
    "scrolled": true
   },
   "outputs": [],
   "source": [
    "estadoRegiao = pd.read_csv('../Dados/Raw/EstadoRegiao/Sigla_estado.csv', encoding = 'latin_1')\n",
    "estadoRegiao = estadoRegiao.rename(columns = {'Sigla' : 'UF'})\n",
    "\n",
    "depCred = depCred.merge(estadoRegiao)\n",
    "depCred = depCred.drop(columns = {'UF'})\n",
    "depCred = depCred.rename(columns = {'Year' : 'Date'})\n",
    "depCred = depCred.groupby(['Região', 'Date']).sum().reset_index()\n",
    "depCred.Date = depCred.Date.astype(int)"
   ]
  },
  {
   "cell_type": "code",
   "execution_count": null,
   "metadata": {},
   "outputs": [],
   "source": [
    "dfUso = dfUso.merge(depCred)"
   ]
  },
  {
   "cell_type": "markdown",
   "metadata": {},
   "source": [
    "## Desinflacionar (Irrelevante)"
   ]
  },
  {
   "cell_type": "code",
   "execution_count": null,
   "metadata": {},
   "outputs": [],
   "source": [
    "ipca = pd.read_excel('../Dados/Raw/IPCA/ipca_2000_2019.xlsx')\n",
    "ipca = ipca.rename(columns={'Ano':'Date',100:'Taxa IPCA'})\n",
    "ipca = ipca[['Date','Taxa IPCA']]\n",
    "\n",
    "taxa2019 = ipca.loc[ipca.Date == 2019, 'Taxa IPCA'].values[0]"
   ]
  },
  {
   "cell_type": "code",
   "execution_count": null,
   "metadata": {},
   "outputs": [],
   "source": [
    "dfUso = dfUso.merge(ipca)\n",
    "\n",
    "dfUso['PIB'     ] = dfUso['PIB'     ] * taxa2019 / dfUso['Taxa IPCA']\n",
    "dfUso['Crédito' ] = dfUso['Crédito' ] * taxa2019 / dfUso['Taxa IPCA']\n",
    "dfUso['Depósito'] = dfUso['Depósito'] * taxa2019 / dfUso['Taxa IPCA']"
   ]
  },
  {
   "cell_type": "markdown",
   "metadata": {},
   "source": [
    "## Nível de Crédito e Depósito"
   ]
  },
  {
   "cell_type": "code",
   "execution_count": null,
   "metadata": {},
   "outputs": [],
   "source": [
    "dfUso['Nível Crédito'] = dfUso['Crédito'] / dfUso['PIB']"
   ]
  },
  {
   "cell_type": "code",
   "execution_count": null,
   "metadata": {},
   "outputs": [],
   "source": [
    "dfUso['Nível Depósito'] = dfUso['Depósito'] / dfUso['PIB']"
   ]
  },
  {
   "cell_type": "markdown",
   "metadata": {},
   "source": [
    "# Exportar"
   ]
  },
  {
   "cell_type": "code",
   "execution_count": null,
   "metadata": {},
   "outputs": [],
   "source": [
    "dfDemografico.to_csv('../Dados/Processed/Acesso/Demografico.csv', index = None)\n",
    "dfGeografico .to_csv( '../Dados/Processed/Acesso/Geofrafico.csv', index = None)\n",
    "\n",
    "dfUso.to_csv('../Dados/Processed/Uso/Consolidado.csv', index = None)"
   ]
  }
 ],
 "metadata": {
  "kernelspec": {
   "display_name": "Python 3",
   "language": "python",
   "name": "python3"
  },
  "language_info": {
   "codemirror_mode": {
    "name": "ipython",
    "version": 3
   },
   "file_extension": ".py",
   "mimetype": "text/x-python",
   "name": "python",
   "nbconvert_exporter": "python",
   "pygments_lexer": "ipython3",
   "version": "3.8.5"
  }
 },
 "nbformat": 4,
 "nbformat_minor": 4
}
