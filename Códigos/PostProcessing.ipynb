{
 "cells": [
  {
   "cell_type": "code",
   "execution_count": 4,
   "metadata": {},
   "outputs": [],
   "source": [
    "import pandas as pd\n",
    "from sklearn import preprocessing"
   ]
  },
  {
   "cell_type": "markdown",
   "metadata": {},
   "source": [
    "# Dimensão Uso"
   ]
  },
  {
   "cell_type": "code",
   "execution_count": 5,
   "metadata": {},
   "outputs": [],
   "source": [
    "dfUso = pd.read_csv('../Dados/Processed/Uso/Consolidado.csv')\n",
    "\n",
    "dfUsoValues = dfUso[['Bancarização', 'Nível Crédito', 'Nível Depósito']]\n",
    "\n",
    "scaler = preprocessing.MinMaxScaler().fit(dfUsoValues.values)\n",
    "oemNormalized = scaler.transform(dfUsoValues.values)\n",
    "oemNormalized = pd.DataFrame(oemNormalized)\n",
    "\n",
    "oemNormalized = oemNormalized.rename(columns = {0:'Bancarização Norm',\n",
    "                                                1:'Nível de Crédito Norm',\n",
    "                                                2:'Nível de Depósito Norm'})\n",
    "\n",
    "dfUso = pd.concat([dfUso,oemNormalized], axis = 1)"
   ]
  }
 ],
 "metadata": {
  "kernelspec": {
   "display_name": "Python 3",
   "language": "python",
   "name": "python3"
  },
  "language_info": {
   "codemirror_mode": {
    "name": "ipython",
    "version": 3
   },
   "file_extension": ".py",
   "mimetype": "text/x-python",
   "name": "python",
   "nbconvert_exporter": "python",
   "pygments_lexer": "ipython3",
   "version": "3.8.5"
  }
 },
 "nbformat": 4,
 "nbformat_minor": 4
}
